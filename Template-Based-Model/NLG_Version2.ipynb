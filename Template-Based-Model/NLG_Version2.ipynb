{
  "nbformat": 4,
  "nbformat_minor": 0,
  "metadata": {
    "colab": {
      "provenance": [],
      "collapsed_sections": []
    },
    "kernelspec": {
      "name": "python3",
      "display_name": "Python 3"
    },
    "language_info": {
      "name": "python"
    }
  },
  "cells": [
    {
      "cell_type": "code",
      "source": [],
      "metadata": {
        "id": "norwdt_DzzRH"
      },
      "execution_count": null,
      "outputs": []
    },
    {
      "cell_type": "markdown",
      "source": [
        "This is a revamped beta version of NLG module for CAiFE without using Transformers libraries"
      ],
      "metadata": {
        "id": "gcc9Bedzz85i"
      }
    },
    {
      "cell_type": "code",
      "source": [
        "from google.colab import drive\n",
        "drive.mount('/content/drive/')"
      ],
      "metadata": {
        "colab": {
          "base_uri": "https://localhost:8080/"
        },
        "id": "0dYsLziN0ui5",
        "outputId": "2b156a40-a1b8-49bc-93c3-99eaa5992855"
      },
      "execution_count": null,
      "outputs": [
        {
          "output_type": "stream",
          "name": "stdout",
          "text": [
            "Mounted at /content/drive/\n"
          ]
        }
      ]
    },
    {
      "cell_type": "code",
      "source": [
        "import os\n",
        "os.chdir(\"/content/drive/MyDrive/\")"
      ],
      "metadata": {
        "id": "PQNiLThi1biZ"
      },
      "execution_count": null,
      "outputs": []
    },
    {
      "cell_type": "code",
      "execution_count": null,
      "metadata": {
        "id": "3n0Q_TvhzfIT"
      },
      "outputs": [],
      "source": [
        "import json\n",
        "import re\n",
        "import random"
      ]
    },
    {
      "cell_type": "code",
      "source": [
        "# Create a dafault response in the case that user does not enter anything\n",
        "def random_default_response():\n",
        "    random_list = [\n",
        "        \"Please give me more details on what you need.\",\n",
        "        \"Oh! It appears you wrote something I don't understand yet\",\n",
        "        \"Do you mind trying to rephrase that?\",\n",
        "        \"I'm terribly sorry, I didn't quite catch that.\",\n",
        "        \"I can't answer that yet, could you please be more specific?\"\n",
        "    ]\n",
        "\n",
        "    list_count = len(random_list)\n",
        "    random_item = random.randrange(list_count)\n",
        "\n",
        "    return random_list[random_item]\n"
      ],
      "metadata": {
        "id": "3B6FsElPzrou"
      },
      "execution_count": null,
      "outputs": []
    },
    {
      "cell_type": "code",
      "source": [
        "# Load JSON data\n",
        "def load_json(file):\n",
        "    with open(file) as bot_responses:\n",
        "        print(f\"Loaded '{file}' successfully!\")\n",
        "        return json.load(bot_responses)"
      ],
      "metadata": {
        "id": "Nof-LNZA0Wn7"
      },
      "execution_count": null,
      "outputs": []
    },
    {
      "cell_type": "code",
      "source": [
        "# Store JSON data \"bert2_dialogue_016\" as provided by Kumar\n",
        "# intents_data = load_json(\"bert2_dialogue_016.json\")\n",
        "intents_data = load_json(\"bot.json\")"
      ],
      "metadata": {
        "colab": {
          "base_uri": "https://localhost:8080/"
        },
        "id": "2Dk-Cljf0XNE",
        "outputId": "3e0b1e6c-a256-485c-dda2-6964f454d40e"
      },
      "execution_count": null,
      "outputs": [
        {
          "output_type": "stream",
          "name": "stdout",
          "text": [
            "Loaded 'bot.json' successfully!\n"
          ]
        }
      ]
    },
    {
      "cell_type": "code",
      "source": [
        "intents_data[0]"
      ],
      "metadata": {
        "colab": {
          "base_uri": "https://localhost:8080/"
        },
        "id": "d293-hw6L4Gc",
        "outputId": "e97c7dd5-c26e-4d03-8862-405fb068e71a"
      },
      "execution_count": null,
      "outputs": [
        {
          "output_type": "execute_result",
          "data": {
            "text/plain": [
              "{'dialogue_idx': 'MUL1547.json',\n",
              " 'domains': ['restaurant'],\n",
              " 'dialogue': [{'system_transcript': '',\n",
              "   'turn_idx': 0,\n",
              "   'belief_state': [{'slots': [['restaurant-area', 'west']],\n",
              "     'act': 'find_restaurant'},\n",
              "    {'slots': [['restaurant-food', 'indian']], 'act': 'find_restaurant'}],\n",
              "   'turn_label': [['restaurant-area', 'west'], ['restaurant-food', 'indian']],\n",
              "   'transcript': \"I'm looking for an Indian restaurant in the west end of Cambridge.\",\n",
              "   'system_acts': [],\n",
              "   'domain': 'restaurant'},\n",
              "  {'system_transcript': 'There are 6 results for Indian restaurants in the west, what price range are you looking for?',\n",
              "   'turn_idx': 1,\n",
              "   'belief_state': [{'slots': [['restaurant-area', 'west']],\n",
              "     'act': 'find_restaurant'},\n",
              "    {'slots': [['restaurant-food', 'indian']], 'act': 'find_restaurant'}],\n",
              "   'turn_label': [['restaurant-area', 'west'], ['restaurant-food', 'indian']],\n",
              "   'transcript': 'I do not have a preference, so surprise me!',\n",
              "   'system_acts': ['restaurant-name'],\n",
              "   'domain': 'restaurant'},\n",
              "  {'system_transcript': 'I recommend cocum as they are good.',\n",
              "   'turn_idx': 2,\n",
              "   'belief_state': [{'slots': [['restaurant-area', 'west']],\n",
              "     'act': 'book_restaurant'},\n",
              "    {'slots': [['restaurant-bookday', 'thursday']], 'act': 'book_restaurant'},\n",
              "    {'slots': [['restaurant-bookpeople', '3']], 'act': 'book_restaurant'},\n",
              "    {'slots': [['restaurant-booktime', '11:30']], 'act': 'book_restaurant'},\n",
              "    {'slots': [['restaurant-food', 'indian']], 'act': 'book_restaurant'},\n",
              "    {'slots': [['restaurant-name', 'cocum']], 'act': 'book_restaurant'}],\n",
              "   'turn_label': [['restaurant-area', 'west'],\n",
              "    ['restaurant-bookday', 'thursday'],\n",
              "    ['restaurant-bookpeople', '3'],\n",
              "    ['restaurant-booktime', '11:30'],\n",
              "    ['restaurant-food', 'indian'],\n",
              "    ['restaurant-name', 'cocum']],\n",
              "   'transcript': 'Nice! I would like to make a reservation for 3 on Thursday at 11:30.',\n",
              "   'system_acts': [],\n",
              "   'domain': 'restaurant'},\n",
              "  {'system_transcript': 'Booking was successful. The table will be reserved for 15 minutes. Reference number is : FGM5WP19 .',\n",
              "   'turn_idx': 3,\n",
              "   'belief_state': [{'slots': [['restaurant-area', 'west']], 'act': 'NONE'},\n",
              "    {'slots': [['restaurant-bookday', 'thursday']], 'act': 'NONE'},\n",
              "    {'slots': [['restaurant-bookpeople', '3']], 'act': 'NONE'},\n",
              "    {'slots': [['restaurant-booktime', '11:30']], 'act': 'NONE'},\n",
              "    {'slots': [['restaurant-food', 'indian']], 'act': 'NONE'},\n",
              "    {'slots': [['restaurant-name', 'cocum']], 'act': 'NONE'}],\n",
              "   'turn_label': [['restaurant-area', 'west'],\n",
              "    ['restaurant-bookday', 'thursday'],\n",
              "    ['restaurant-bookpeople', '3'],\n",
              "    ['restaurant-booktime', '11:30'],\n",
              "    ['restaurant-food', 'indian'],\n",
              "    ['restaurant-name', 'cocum']],\n",
              "   'transcript': 'Can I also book a train please?',\n",
              "   'system_acts': [],\n",
              "   'domain': 'restaurant'},\n",
              "  {'system_transcript': 'What time would you like the train to leave?',\n",
              "   'turn_idx': 4,\n",
              "   'belief_state': [{'slots': [['restaurant-area', 'west']], 'act': 'NONE'},\n",
              "    {'slots': [['restaurant-bookday', 'thursday']], 'act': 'NONE'},\n",
              "    {'slots': [['restaurant-bookpeople', '3']], 'act': 'NONE'},\n",
              "    {'slots': [['restaurant-booktime', '11:30']], 'act': 'NONE'},\n",
              "    {'slots': [['restaurant-food', 'indian']], 'act': 'NONE'},\n",
              "    {'slots': [['restaurant-name', 'cocum']], 'act': 'NONE'}],\n",
              "   'turn_label': [['restaurant-area', 'west'],\n",
              "    ['restaurant-bookday', 'thursday'],\n",
              "    ['restaurant-bookpeople', '3'],\n",
              "    ['restaurant-booktime', '11:30'],\n",
              "    ['restaurant-food', 'indian'],\n",
              "    ['restaurant-name', 'cocum']],\n",
              "   'transcript': 'The train needs to leave from peterborough and arrive at cambridge by 08:30.',\n",
              "   'system_acts': [],\n",
              "   'domain': 'restaurant'},\n",
              "  {'system_transcript': 'Is there a time you would like to leave by?',\n",
              "   'turn_idx': 5,\n",
              "   'belief_state': [{'slots': [['restaurant-area', 'west']],\n",
              "     'act': 'book_restaurant'},\n",
              "    {'slots': [['restaurant-bookday', 'thursday']], 'act': 'book_restaurant'},\n",
              "    {'slots': [['restaurant-bookpeople', '3']], 'act': 'book_restaurant'},\n",
              "    {'slots': [['restaurant-booktime', '11:30']], 'act': 'book_restaurant'},\n",
              "    {'slots': [['restaurant-food', 'indian']], 'act': 'book_restaurant'},\n",
              "    {'slots': [['restaurant-name', 'cocum']], 'act': 'book_restaurant'}],\n",
              "   'turn_label': [['restaurant-area', 'west'],\n",
              "    ['restaurant-bookday', 'thursday'],\n",
              "    ['restaurant-bookpeople', '3'],\n",
              "    ['restaurant-booktime', '11:30'],\n",
              "    ['restaurant-food', 'indian'],\n",
              "    ['restaurant-name', 'cocum']],\n",
              "   'transcript': 'No, just Thursday is the day I need it.',\n",
              "   'system_acts': [],\n",
              "   'domain': 'restaurant'},\n",
              "  {'system_transcript': \"There are five trains leaving Peterborough and going to Cambridge on Thursday. The last one leaves at 7:19 and arrives at 8:09. Is this one you'd like to book?\",\n",
              "   'turn_idx': 6,\n",
              "   'belief_state': [{'slots': [['restaurant-area', 'west']], 'act': 'NONE'},\n",
              "    {'slots': [['restaurant-bookday', 'thursday']], 'act': 'NONE'},\n",
              "    {'slots': [['restaurant-bookpeople', '3']], 'act': 'NONE'},\n",
              "    {'slots': [['restaurant-booktime', '11:30']], 'act': 'NONE'},\n",
              "    {'slots': [['restaurant-food', 'indian']], 'act': 'NONE'},\n",
              "    {'slots': [['restaurant-name', 'cocum']], 'act': 'NONE'}],\n",
              "   'turn_label': [['restaurant-area', 'west'],\n",
              "    ['restaurant-bookday', 'thursday'],\n",
              "    ['restaurant-bookpeople', '3'],\n",
              "    ['restaurant-booktime', '11:30'],\n",
              "    ['restaurant-food', 'indian'],\n",
              "    ['restaurant-name', 'cocum']],\n",
              "   'transcript': \"That's perfect, though I don't want to book it just yet. Can you give me the travel time, price, and train ID please?\",\n",
              "   'system_acts': [],\n",
              "   'domain': 'restaurant'},\n",
              "  {'system_transcript': 'The train ID is TR7094. It takes 50 minutes to get from Peterborough to Cambridge. The price is 16.50 pounds. Is there anything else?',\n",
              "   'turn_idx': 7,\n",
              "   'belief_state': [{'slots': [['restaurant-area', 'west']], 'act': 'NONE'},\n",
              "    {'slots': [['restaurant-bookday', 'thursday']], 'act': 'NONE'},\n",
              "    {'slots': [['restaurant-bookpeople', '3']], 'act': 'NONE'},\n",
              "    {'slots': [['restaurant-booktime', '11:30']], 'act': 'NONE'},\n",
              "    {'slots': [['restaurant-food', 'indian']], 'act': 'NONE'},\n",
              "    {'slots': [['restaurant-name', 'cocum']], 'act': 'NONE'}],\n",
              "   'turn_label': [['restaurant-area', 'west'],\n",
              "    ['restaurant-bookday', 'thursday'],\n",
              "    ['restaurant-bookpeople', '3'],\n",
              "    ['restaurant-booktime', '11:30'],\n",
              "    ['restaurant-food', 'indian'],\n",
              "    ['restaurant-name', 'cocum']],\n",
              "   'transcript': \"That's all I needed, thank you\",\n",
              "   'system_acts': [],\n",
              "   'domain': 'restaurant'},\n",
              "  {'system_transcript': \"You're welcome, have a lovely day!\",\n",
              "   'turn_idx': 8,\n",
              "   'belief_state': [{'slots': [['restaurant-area', 'west']], 'act': 'NONE'},\n",
              "    {'slots': [['restaurant-food', 'indian']], 'act': 'NONE'},\n",
              "    {'slots': [['restaurant-bookday', 'thursday']], 'act': 'NONE'},\n",
              "    {'slots': [['restaurant-bookpeople', '3']], 'act': 'NONE'},\n",
              "    {'slots': [['restaurant-booktime', '11:30']], 'act': 'NONE'},\n",
              "    {'slots': [['restaurant-name', 'cocum']], 'act': 'NONE'}],\n",
              "   'turn_label': [['restaurant-area', 'west'],\n",
              "    ['restaurant-food', 'indian'],\n",
              "    ['restaurant-bookday', 'thursday'],\n",
              "    ['restaurant-bookpeople', '3'],\n",
              "    ['restaurant-booktime', '11:30'],\n",
              "    ['restaurant-name', 'cocum']],\n",
              "   'transcript': '',\n",
              "   'system_acts': [],\n",
              "   'domain': 'restaurant'}]}"
            ]
          },
          "metadata": {},
          "execution_count": 67
        }
      ]
    },
    {
      "cell_type": "code",
      "source": [
        "domain = intents_data[1]['dialogue'][0]['domain']\n",
        "print(domain)"
      ],
      "metadata": {
        "colab": {
          "base_uri": "https://localhost:8080/"
        },
        "id": "GFHnsdju9R_x",
        "outputId": "e8e14d75-9f37-417c-a4aa-8e82293b6346"
      },
      "execution_count": null,
      "outputs": [
        {
          "output_type": "stream",
          "name": "stdout",
          "text": [
            "restaurant\n"
          ]
        }
      ]
    },
    {
      "cell_type": "code",
      "source": [
        "intents_data[1]['dialogue'][0]['belief_state'][0]['slots'][0][0].split(\"-\")"
      ],
      "metadata": {
        "colab": {
          "base_uri": "https://localhost:8080/"
        },
        "id": "JR3UzO87DsZ_",
        "outputId": "e43e91f3-55b4-4d86-9f29-c20b4a8bae74"
      },
      "execution_count": null,
      "outputs": [
        {
          "output_type": "execute_result",
          "data": {
            "text/plain": [
              "['restaurant', 'food']"
            ]
          },
          "metadata": {},
          "execution_count": 109
        }
      ]
    },
    {
      "cell_type": "code",
      "source": [
        "act = intents_data[1]['dialogue'][0]['belief_state'][0]['act'].split(\"_\")\n",
        "print(act)"
      ],
      "metadata": {
        "colab": {
          "base_uri": "https://localhost:8080/"
        },
        "id": "SPQVk9SG8N1V",
        "outputId": "2b51b588-8965-41af-c9d2-3abaeffbe2c3"
      },
      "execution_count": null,
      "outputs": [
        {
          "output_type": "stream",
          "name": "stdout",
          "text": [
            "['find', 'restaurant']\n"
          ]
        }
      ]
    },
    {
      "cell_type": "code",
      "source": [
        "act = intents_data[1]['dialogue'][0]['belief_state'][0]['act'].split(\"_\")\n",
        "print(act)"
      ],
      "metadata": {
        "id": "lQJzScxRDQ1r"
      },
      "execution_count": null,
      "outputs": []
    },
    {
      "cell_type": "code",
      "source": [
        "user_dialogue = intents_data[0]['dialogue'][0]['transcript']\n",
        "print(user_dialogue)"
      ],
      "metadata": {
        "colab": {
          "base_uri": "https://localhost:8080/"
        },
        "id": "dJ9AIQOW-nvT",
        "outputId": "a93aaa4a-04be-4be8-9c43-4189470460f2"
      },
      "execution_count": null,
      "outputs": [
        {
          "output_type": "stream",
          "name": "stdout",
          "text": [
            "I'm looking for an Indian restaurant in the west end of Cambridge.\n"
          ]
        }
      ]
    },
    {
      "cell_type": "code",
      "source": [
        "slot_value = intents_data[0]['dialogue'][0]['belief_state'][0]['slots'][0][0].split(\"-\")\n",
        "print(slot_value)"
      ],
      "metadata": {
        "colab": {
          "base_uri": "https://localhost:8080/"
        },
        "id": "eC1tzxaH9R1V",
        "outputId": "d666b204-76b8-4dcb-8b1c-bf7ba8c56d50"
      },
      "execution_count": null,
      "outputs": [
        {
          "output_type": "stream",
          "name": "stdout",
          "text": [
            "['restaurant', 'area']\n"
          ]
        }
      ]
    },
    {
      "cell_type": "code",
      "source": [
        "intents_data[0]['dialogue'][0]['belief_state'][0]['slots'][0][1].split(\"-\")\n"
      ],
      "metadata": {
        "colab": {
          "base_uri": "https://localhost:8080/"
        },
        "id": "UxHpEP6t7zMN",
        "outputId": "9653166f-c3bc-44c9-dad9-5033eb75a293"
      },
      "execution_count": null,
      "outputs": [
        {
          "output_type": "execute_result",
          "data": {
            "text/plain": [
              "['west']"
            ]
          },
          "metadata": {},
          "execution_count": 64
        }
      ]
    },
    {
      "cell_type": "code",
      "source": [
        "def generate_NLG_response(input_string):\n",
        "    user_message = re.split(r'\\s+|[,;?!.-]\\s*', input_string.lower())\n",
        "    score_list = []\n",
        "\n",
        "    # Check all the intents\n",
        "    for intents in intents_data:\n",
        "        response_score = 0\n",
        "        required_score = 0\n",
        "        required_words = intents[\"slots\"]\n",
        "\n",
        "        # Check if there are any required slot-filling words\n",
        "        if required_words:\n",
        "            for word in user_message:\n",
        "                if word in required_words:\n",
        "                    required_score += 1\n",
        "\n",
        "        # Amount of required words should match the required score -> slot is fully filled\n",
        "        if required_score == len(required_words):\n",
        "            # print(required_score == len(required_words))\n",
        "            # Check each word the user has typed\n",
        "            for word in user_message:\n",
        "                # If the word is in the response, add to the score\n",
        "                if word in intents[\"transcript\"]:\n",
        "                    response_score += 1\n",
        "\n",
        "        # Add score to list\n",
        "        score_list.append(response_score)\n",
        "        # Debugging: Find the best phrase\n",
        "        # print(response_score, response[\"user_input\"])\n",
        "\n",
        "    # Find the best response and return it if they're not all 0\n",
        "    best_response = max(score_list)\n",
        "    response_index = score_list.index(best_response)\n",
        "\n",
        "    # Check if input is empty\n",
        "    if input_string == \"\":\n",
        "        return \"Please tell us how we could be of help.\"\n",
        "\n",
        "    # If there is no good response, return a random one.\n",
        "    if best_response != 0:\n",
        "        return intents_data[response_index][\"system_transcript\"]\n",
        "\n",
        "    return random_default_response()\n"
      ],
      "metadata": {
        "id": "FU_O3aoz1mL6"
      },
      "execution_count": null,
      "outputs": []
    },
    {
      "cell_type": "code",
      "source": [
        "while True:\n",
        "    user_input = input(\"USR: \")\n",
        "    print(\"BOT:\", generate_NLG_response(user_input))"
      ],
      "metadata": {
        "colab": {
          "base_uri": "https://localhost:8080/",
          "height": 853
        },
        "id": "v2vfq7HX1mJj",
        "outputId": "1d128957-decf-4da6-9558-71e8dab369be"
      },
      "execution_count": null,
      "outputs": [
        {
          "output_type": "stream",
          "name": "stdout",
          "text": [
            "USR: hi\n",
            "BOT: Hey there!\n",
            "USR: I need vaccination\n",
            "BOT: Did you have any vacccination before?\n",
            "USR: yes I did\n",
            "BOT: Oh! It appears you wrote something I don't understand yet\n",
            "USR: yes I did have vaccination\n",
            "BOT: Sure, when do you want to have it?\n",
            "USR: how about Thursday?\n",
            "BOT: Oh! It appears you wrote something I don't understand yet\n",
            "USR: Can you help to book it Wednesday?\n",
            "BOT: I can't answer that yet, please try to rephrase.\n",
            "USR: Can you help to book it next Wednesday?\n",
            "BOT: Do you mind trying to rephrase that?\n",
            "USR: Thursday\n",
            "BOT: I can't answer that yet, please try to rephrase.\n",
            "USR: 3pm\n",
            "BOT: I'm terribly sorry, I didn't quite catch that.\n",
            "USR: book 3pm\n",
            "BOT: Please give me more details on what you need.\n",
            "USR: book time at 3pm\n",
            "BOT: Sure, your booking is succesful.\n",
            "USR: thank you\n",
            "BOT: I'm terribly sorry, I didn't quite catch that.\n",
            "USR: Thank you\n",
            "BOT: I'm terribly sorry, I didn't quite catch that.\n",
            "USR: Thank you, good bye\n",
            "BOT: See you later!\n"
          ]
        },
        {
          "output_type": "error",
          "ename": "KeyboardInterrupt",
          "evalue": "ignored",
          "traceback": [
            "\u001b[0;31m---------------------------------------------------------------------------\u001b[0m",
            "\u001b[0;31mKeyboardInterrupt\u001b[0m                         Traceback (most recent call last)",
            "\u001b[0;32m<ipython-input-29-2bf2da77874d>\u001b[0m in \u001b[0;36m<module>\u001b[0;34m\u001b[0m\n\u001b[1;32m      1\u001b[0m \u001b[0;32mwhile\u001b[0m \u001b[0;32mTrue\u001b[0m\u001b[0;34m:\u001b[0m\u001b[0;34m\u001b[0m\u001b[0;34m\u001b[0m\u001b[0m\n\u001b[0;32m----> 2\u001b[0;31m     \u001b[0muser_input\u001b[0m \u001b[0;34m=\u001b[0m \u001b[0minput\u001b[0m\u001b[0;34m(\u001b[0m\u001b[0;34m\"USR: \"\u001b[0m\u001b[0;34m)\u001b[0m\u001b[0;34m\u001b[0m\u001b[0;34m\u001b[0m\u001b[0m\n\u001b[0m\u001b[1;32m      3\u001b[0m     \u001b[0mprint\u001b[0m\u001b[0;34m(\u001b[0m\u001b[0;34m\"BOT:\"\u001b[0m\u001b[0;34m,\u001b[0m \u001b[0mgenerate_NLG_response\u001b[0m\u001b[0;34m(\u001b[0m\u001b[0muser_input\u001b[0m\u001b[0;34m)\u001b[0m\u001b[0;34m)\u001b[0m\u001b[0;34m\u001b[0m\u001b[0;34m\u001b[0m\u001b[0m\n",
            "\u001b[0;32m/usr/local/lib/python3.7/dist-packages/ipykernel/kernelbase.py\u001b[0m in \u001b[0;36mraw_input\u001b[0;34m(self, prompt)\u001b[0m\n\u001b[1;32m    861\u001b[0m             \u001b[0mself\u001b[0m\u001b[0;34m.\u001b[0m\u001b[0m_parent_ident\u001b[0m\u001b[0;34m,\u001b[0m\u001b[0;34m\u001b[0m\u001b[0;34m\u001b[0m\u001b[0m\n\u001b[1;32m    862\u001b[0m             \u001b[0mself\u001b[0m\u001b[0;34m.\u001b[0m\u001b[0m_parent_header\u001b[0m\u001b[0;34m,\u001b[0m\u001b[0;34m\u001b[0m\u001b[0;34m\u001b[0m\u001b[0m\n\u001b[0;32m--> 863\u001b[0;31m             \u001b[0mpassword\u001b[0m\u001b[0;34m=\u001b[0m\u001b[0;32mFalse\u001b[0m\u001b[0;34m,\u001b[0m\u001b[0;34m\u001b[0m\u001b[0;34m\u001b[0m\u001b[0m\n\u001b[0m\u001b[1;32m    864\u001b[0m         )\n\u001b[1;32m    865\u001b[0m \u001b[0;34m\u001b[0m\u001b[0m\n",
            "\u001b[0;32m/usr/local/lib/python3.7/dist-packages/ipykernel/kernelbase.py\u001b[0m in \u001b[0;36m_input_request\u001b[0;34m(self, prompt, ident, parent, password)\u001b[0m\n\u001b[1;32m    902\u001b[0m             \u001b[0;32mexcept\u001b[0m \u001b[0mKeyboardInterrupt\u001b[0m\u001b[0;34m:\u001b[0m\u001b[0;34m\u001b[0m\u001b[0;34m\u001b[0m\u001b[0m\n\u001b[1;32m    903\u001b[0m                 \u001b[0;31m# re-raise KeyboardInterrupt, to truncate traceback\u001b[0m\u001b[0;34m\u001b[0m\u001b[0;34m\u001b[0m\u001b[0;34m\u001b[0m\u001b[0m\n\u001b[0;32m--> 904\u001b[0;31m                 \u001b[0;32mraise\u001b[0m \u001b[0mKeyboardInterrupt\u001b[0m\u001b[0;34m(\u001b[0m\u001b[0;34m\"Interrupted by user\"\u001b[0m\u001b[0;34m)\u001b[0m \u001b[0;32mfrom\u001b[0m \u001b[0;32mNone\u001b[0m\u001b[0;34m\u001b[0m\u001b[0;34m\u001b[0m\u001b[0m\n\u001b[0m\u001b[1;32m    905\u001b[0m             \u001b[0;32mexcept\u001b[0m \u001b[0mException\u001b[0m \u001b[0;32mas\u001b[0m \u001b[0me\u001b[0m\u001b[0;34m:\u001b[0m\u001b[0;34m\u001b[0m\u001b[0;34m\u001b[0m\u001b[0m\n\u001b[1;32m    906\u001b[0m                 \u001b[0mself\u001b[0m\u001b[0;34m.\u001b[0m\u001b[0mlog\u001b[0m\u001b[0;34m.\u001b[0m\u001b[0mwarning\u001b[0m\u001b[0;34m(\u001b[0m\u001b[0;34m\"Invalid Message:\"\u001b[0m\u001b[0;34m,\u001b[0m \u001b[0mexc_info\u001b[0m\u001b[0;34m=\u001b[0m\u001b[0;32mTrue\u001b[0m\u001b[0;34m)\u001b[0m\u001b[0;34m\u001b[0m\u001b[0;34m\u001b[0m\u001b[0m\n",
            "\u001b[0;31mKeyboardInterrupt\u001b[0m: Interrupted by user"
          ]
        }
      ]
    },
    {
      "cell_type": "code",
      "source": [],
      "metadata": {
        "id": "YLunNEXi1mGu"
      },
      "execution_count": null,
      "outputs": []
    },
    {
      "cell_type": "code",
      "source": [],
      "metadata": {
        "id": "bu66S7ve1mD3"
      },
      "execution_count": null,
      "outputs": []
    },
    {
      "cell_type": "code",
      "source": [],
      "metadata": {
        "id": "C7H-_S5j1mA0"
      },
      "execution_count": null,
      "outputs": []
    }
  ]
}