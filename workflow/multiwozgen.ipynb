{
 "cells": [
  {
   "cell_type": "code",
   "execution_count": 1,
   "id": "lesbian-essence",
   "metadata": {},
   "outputs": [],
   "source": [
    "import json\n",
    "utterance_file = \"utterance1.txt\"\n",
    "dialog_cnt = 1000\n",
    "outfile_cnt = 10\n",
    "json_list = []\n",
    "other_domains = [\"taxi\", \"train\", \"bus\", \"police\", \"hotel\", \"attraction\", \"hospital\"]\n",
    "service_domain = \"restaurant\"\n",
    "turn_id = 0\n",
    "num_workflows = -1 # track the number of processed workflows"
   ]
  },
  {
   "cell_type": "code",
   "execution_count": 2,
   "id": "reflected-explorer",
   "metadata": {},
   "outputs": [],
   "source": [
    "with open(utterance_file) as fp:\n",
    "    Lines = fp.readlines()"
   ]
  },
  {
   "cell_type": "code",
   "execution_count": 3,
   "id": "alleged-jordan",
   "metadata": {},
   "outputs": [],
   "source": [
    "def init_dict(dialog_cnt):\n",
    "    turn_id = 0\n",
    "    dialog_cnt += 1\n",
    "    dialogue_id = \"CAiFE\" + str(dialog_cnt) + \".json\"\n",
    "    line_dict = {\"dialogue_id\": dialogue_id, \"services\": [\"restaurant\"], \n",
    "                 \"turns\": []}\n",
    "    return line_dict"
   ]
  },
  {
   "cell_type": "code",
   "execution_count": 4,
   "id": "smoking-mills",
   "metadata": {},
   "outputs": [],
   "source": [
    "def add_other_domains():\n",
    "    d_list = []\n",
    "    for domain in other_domains:\n",
    "        d = {\"actions\": [], \"service\": domain, \"slots\": [], \n",
    "            \"state\": {\"active_intent\": \"NONE\", \"requested_slots\": [], \"slot_values\": {}}}\n",
    "        d_list.append(d)\n",
    "    return d_list"
   ]
  },
  {
   "cell_type": "code",
   "execution_count": 5,
   "id": "disabled-david",
   "metadata": {},
   "outputs": [],
   "source": [
    "for line in Lines:\n",
    "    if line[0:4] == \"----\":\n",
    "        line_dict = init_dict(dialog_cnt)\n",
    "        num_workflows += 1 # 0 for the 1st time this loop is executed\n",
    "        if num_workflows > 0: # append only after at least 1 workflow is processed\n",
    "            json_list.append(line_dict)\n",
    "        continue\n",
    "    \n",
    "    speaker = line[0: line.index(':')] # identify speaker - letters up to 1st ':'\n",
    "    #identify if keyword exists in a line and get start and end indices\n",
    "    ind1 = line.index('[')\n",
    "    ind2 = line.index(']')\n",
    "    utterance = line[ind2+3: -2] # extract utterance\n",
    "    \n",
    "    # for each turn_id setup the dictionary in turns list\n",
    "    line_dict[\"turns\"].append({\"frames\": [], \"speaker\": speaker, \n",
    "                               \"turn_id\": turn_id, \"utterance\": utterance}) \n",
    "    \n",
    "    line_lowercase = line.lower() # get the lower case version of the line\n",
    "    \n",
    "    # if SYSTEM has attributes fill in; if no attributes then init above is enough \n",
    "    if (speaker == \"SYSTEM\") and (ind2 - ind1 > 1):\n",
    "        slot_name_val = line_lowercase[ind1+1: ind2] # extract slot name and value pair\n",
    "        name_list = slot_name_val.split(',')\n",
    "        slotName = name_list[0].strip()\n",
    "        slotVal = name_list[1].strip()\n",
    "        start = line_lowercase.index(slotVal) # get the start index of value\n",
    "        exclusive_end = start + len(slotVal) # get the end index of value\n",
    "        frame_dict = {\"actions\": [], \"service\": service_domain,\n",
    "                      \"slots\": [{\"exclusive_end\": exclusive_end,\n",
    "                                 \"slot\": slotName,\n",
    "                                 \"start\": start,\n",
    "                                 \"value\": slotVal\n",
    "                                }\n",
    "                               ]\n",
    "                     }\n",
    "        line_dict[\"turns\"][turn_id][\"frames\"].append(frame_dict)\n",
    "        \n",
    "    if speaker == \"USER\": # case of speaker being USER\n",
    "        slot_name_val = line_lowercase[ind1+1: ind2] # extract slot name and value pair\n",
    "        name_list = slot_name_val.split(',')\n",
    "        slotName = name_list[0].strip() # 1st value is slot name\n",
    "        slotVal = name_list[1].strip()  # 2nd value is the slot value\n",
    "        active_intent = name_list[2].strip() # 3rd is the active intent\n",
    "        start = line_lowercase.index(slotVal) # get the start index of value\n",
    "        exclusive_end = start + len(slotVal) # get the end index of value\n",
    "        frame_dict = {\"actions\": [], \"service\": service_domain,\n",
    "                      \"slots\": [{\"exclusive_end\": exclusive_end,\n",
    "                                 \"slot\": slotName,\n",
    "                                 \"start\": start,\n",
    "                                 \"value\": slotVal\n",
    "                                }\n",
    "                               ],\n",
    "                      \"state\": {\"active_intent\": active_intent,\n",
    "                                \"requested_slots\": [],\n",
    "                                \"slot_values\": {}\n",
    "                               }\n",
    "                      \n",
    "                     }\n",
    "        line_dict[\"turns\"][turn_id][\"frames\"].append(frame_dict)\n",
    "        \n",
    "        other_domain_list = add_other_domains() # get values for other domains\n",
    "        for val in other_domain_list:\n",
    "            line_dict[\"turns\"][turn_id][\"frames\"].append(val)\n",
    "\n",
    "    turn_id += 1\n",
    "    \n",
    "json_list.append(line_dict)"
   ]
  },
  {
   "cell_type": "code",
   "execution_count": 6,
   "id": "critical-transsexual",
   "metadata": {},
   "outputs": [],
   "source": [
    "json_object = json.dumps(json_list, indent=2)\n",
    "outfile_cnt += 1\n",
    "json_file_name = \"dialogues_0\" + str(outfile_cnt) + \".json\"\n",
    "with open(json_file_name, \"w\") as fp:\n",
    "    fp.write(json_object)"
   ]
  },
  {
   "cell_type": "code",
   "execution_count": null,
   "id": "polar-engine",
   "metadata": {},
   "outputs": [],
   "source": []
  }
 ],
 "metadata": {
  "kernelspec": {
   "display_name": "Python 3",
   "language": "python",
   "name": "python3"
  },
  "language_info": {
   "codemirror_mode": {
    "name": "ipython",
    "version": 3
   },
   "file_extension": ".py",
   "mimetype": "text/x-python",
   "name": "python",
   "nbconvert_exporter": "python",
   "pygments_lexer": "ipython3",
   "version": "3.8.7"
  }
 },
 "nbformat": 4,
 "nbformat_minor": 5
}
