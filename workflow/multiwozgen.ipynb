{
 "cells": [
  {
   "cell_type": "code",
   "execution_count": 63,
   "id": "4d4683a3",
   "metadata": {},
   "outputs": [],
   "source": [
    "import json\n",
    "utterance_file = \"test_multi.txt\"\n",
    "dialog_cnt = 1000\n",
    "outfile = \"dialogues_051.json\"\n",
    "json_list = []\n",
    "other_domains = [\"taxi\", \"train\", \"bus\", \"police\", \"hotel\", \"attraction\", \"hospital\"]\n",
    "service_domain = \"restaurant\"\n",
    "num_workflows = -1 # track the number of processed workflows"
   ]
  },
  {
   "cell_type": "code",
   "execution_count": 64,
   "id": "5bd97cc0",
   "metadata": {},
   "outputs": [],
   "source": [
    "with open(utterance_file) as fp:\n",
    "    Lines = fp.readlines()"
   ]
  },
  {
   "cell_type": "code",
   "execution_count": 65,
   "id": "c8f72800",
   "metadata": {},
   "outputs": [],
   "source": [
    "def init_dict(dialog_cnt):\n",
    "    dialogue_id = \"CAiFE\" + str(dialog_cnt) + \".json\"\n",
    "    line_dict = {\"dialogue_id\": dialogue_id, \"services\": [\"restaurant\"], \n",
    "                 \"turns\": []}\n",
    "    return line_dict"
   ]
  },
  {
   "cell_type": "code",
   "execution_count": 66,
   "id": "1c5dfeb4",
   "metadata": {},
   "outputs": [],
   "source": [
    "def add_other_domains():\n",
    "    d_list = []\n",
    "    for domain in other_domains:\n",
    "        d = {\"actions\": [], \"service\": domain, \"slots\": [], \n",
    "            \"state\": {\"active_intent\": \"NONE\", \"requested_slots\": [], \"slot_values\": {}}}\n",
    "        d_list.append(d)\n",
    "    return d_list"
   ]
  },
  {
   "cell_type": "code",
   "execution_count": 67,
   "id": "6cb1bb14",
   "metadata": {},
   "outputs": [],
   "source": [
    "def get_slots_list(speaker, utterance, attr_vals):\n",
    "    utterance = utterance.lower()\n",
    "    attr_vals = attr_vals.lower()\n",
    "    ind = 0 # a counter that keeps track if keywords such as \"slots:\", \"req_slots:\" etc. are specified\n",
    "    \n",
    "    if not attr_vals == \"[]\": # split only if attr_vals has something other than \"[]\"\n",
    "        attr_list = attr_vals.split(';') # get the slots, req_slots, slot_vals and intent\n",
    "    \n",
    "    slots_list = []\n",
    "    if \"slots:\" in attr_vals: # if values for slots are specified\n",
    "        slots = attr_list[ind].strip()[6:].strip() # 0th element contains slots\n",
    "        ind += 1\n",
    "        slot_name_values = slots.split(',') # extract the slot_name=value tuple separated by ','\n",
    "        for slot_name_value in slot_name_values:\n",
    "            slot_name = slot_name_value.split('=')[0].strip()\n",
    "            slot_value = slot_name_value.split('=')[1].strip()\n",
    "            start = utterance.index(slot_value) # get the start index of value\n",
    "            exclusive_end = start + len(slot_value) # get the end index of value\n",
    "            slots_list.append({\"exclusive_end\": exclusive_end,\n",
    "                              \"slot\": slot_name,\n",
    "                              \"start\": start,\n",
    "                              \"value\": slot_value})\n",
    "            \n",
    "    if speaker == \"SYSTEM\": # if the speaker is system then only slot_list need to be returned\n",
    "        return slots_list\n",
    "    \n",
    "    requested_slots = []\n",
    "    if \"req_slot:\" in attr_vals:\n",
    "        req_slots = attr_list[ind].strip()[10:].strip() # extract the req_list values\n",
    "        ind += 1\n",
    "        req_slots_values = req_slots.split(',')\n",
    "        for slot_name in req_slots_values:\n",
    "            requested_slots.append(slot_name.strip())\n",
    "    \n",
    "    slot_values = {}\n",
    "    if \"slot_vals:\" in attr_vals:\n",
    "        slot_vals = attr_list[ind].strip()[10:].strip()\n",
    "        ind += 1\n",
    "        slot_name_vals = slot_vals.split(',')\n",
    "        for slot_name_val in slot_name_vals:\n",
    "            slot_name = slot_name_val.split('=')[0].strip()\n",
    "            slot_val = slot_name_val.split('=')[1].strip().split()\n",
    "            slot_values[slot_name] = slot_val\n",
    "    \n",
    "    active_intent = \"NONE\"\n",
    "    if \"intent:\" in attr_vals:\n",
    "        active_intent = attr_list[ind].strip()[7:].strip()\n",
    "    \n",
    "    return slots_list, requested_slots, slot_values, active_intent"
   ]
  },
  {
   "cell_type": "code",
   "execution_count": 68,
   "id": "2c77a370",
   "metadata": {},
   "outputs": [],
   "source": [
    "line_num = 0\n",
    "while line_num < len(Lines):\n",
    "    line = Lines[line_num]\n",
    "    if line[0:4] == \"----\":\n",
    "        num_workflows += 1 # 0 for the 1st time this loop is executed\n",
    "        if num_workflows > 0: # append only after at least 1 workflow is processed\n",
    "            json_list.append(line_dict)\n",
    "        dialog_cnt += 1\n",
    "        line_dict = init_dict(dialog_cnt)\n",
    "        turn_id = 0\n",
    "        line_num += 1\n",
    "        continue\n",
    "    \n",
    "    speaker = line[0: line.index(':')].strip() # identify speaker - letters up to 1st ':'\n",
    "    utterance = line[line.index(':') + 1: -1].strip() # extract utterance\n",
    "    \n",
    "    # for each turn_id setup the dictionary in turns list\n",
    "    line_dict[\"turns\"].append({\"frames\": [], \"speaker\": speaker, \n",
    "                               \"turn_id\": turn_id, \"utterance\": utterance}) \n",
    "    \n",
    "    attr_vals = Lines[line_num+1].strip()\n",
    "    \n",
    "    # if SYSTEM has attributes fill in; if no attributes then init above is enough \n",
    "    if (speaker == \"SYSTEM\") and (not attr_vals == \"[]\" ):\n",
    "        slots_list = get_slots_list(speaker, utterance, attr_vals)\n",
    "        frame_dict = {\"actions\": [], \"service\": service_domain,\"slots\": slot_list}\n",
    "        line_dict[\"turns\"][turn_id][\"frames\"].append(frame_dict)\n",
    "        \n",
    "    if speaker == \"USER\": # case of speaker being USER\n",
    "        slot_list, requested_slots, slot_values, active_intent = get_slots_list(speaker, utterance, attr_vals)\n",
    "        \n",
    "        frame_dict = {\"actions\": [], \"service\": service_domain,\n",
    "                      \"slots\": slot_list,\n",
    "                      \"state\": {\"active_intent\": active_intent,\n",
    "                                \"requested_slots\": requested_slots,\n",
    "                                \"slot_values\": slot_values\n",
    "                               }\n",
    "                     }\n",
    "        line_dict[\"turns\"][turn_id][\"frames\"].append(frame_dict)\n",
    "        \n",
    "        other_domain_list = add_other_domains() # get values for other domains\n",
    "        for val in other_domain_list:\n",
    "            line_dict[\"turns\"][turn_id][\"frames\"].append(val)\n",
    "\n",
    "    turn_id += 1\n",
    "    line_num += 2\n",
    "\n",
    "json_list.append(line_dict)"
   ]
  },
  {
   "cell_type": "code",
   "execution_count": 69,
   "id": "7ace9e7c",
   "metadata": {},
   "outputs": [],
   "source": [
    "json_object = json.dumps(json_list, indent=2)\n",
    "\n",
    "with open(outfile, \"w\") as fp:\n",
    "    fp.write(json_object)"
   ]
  },
  {
   "cell_type": "code",
   "execution_count": null,
   "id": "1e54390e",
   "metadata": {},
   "outputs": [],
   "source": []
  }
 ],
 "metadata": {
  "kernelspec": {
   "display_name": "Python 3 (ipykernel)",
   "language": "python",
   "name": "python3"
  },
  "language_info": {
   "codemirror_mode": {
    "name": "ipython",
    "version": 3
   },
   "file_extension": ".py",
   "mimetype": "text/x-python",
   "name": "python",
   "nbconvert_exporter": "python",
   "pygments_lexer": "ipython3",
   "version": "3.8.13"
  }
 },
 "nbformat": 4,
 "nbformat_minor": 5
}
