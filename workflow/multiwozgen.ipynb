{
 "cells": [
  {
   "cell_type": "code",
   "execution_count": 6,
   "id": "reserved-village",
   "metadata": {},
   "outputs": [],
   "source": [
    "import json\n",
    "utterance_file = \"utterance1.txt\"\n",
    "dialog_cnt = 1000\n",
    "outfile_cnt = 10\n",
    "json_list = []\n",
    "other_domains = [\"taxi\", \"train\", \"bus\", \"police\", \"hotel\", \"attraction\", \"hospital\"]\n",
    "service_domain = \"restaurant\"\n",
    "turn_id = 0"
   ]
  },
  {
   "cell_type": "code",
   "execution_count": 7,
   "id": "smoking-reach",
   "metadata": {},
   "outputs": [],
   "source": [
    "with open(utterance_file) as fp:\n",
    "    Lines = fp.readlines()"
   ]
  },
  {
   "cell_type": "code",
   "execution_count": 8,
   "id": "yellow-broad",
   "metadata": {},
   "outputs": [],
   "source": [
    "def init_dict(dialog_cnt):\n",
    "    turn_id = 0\n",
    "    dialog_cnt += 1\n",
    "    dialogue_id = \"CAiFE\" + str(dialog_cnt)\n",
    "    line_dict = {\"dialogue_id\": dialogue_id, \"services\": [\"restaurant\"], \n",
    "                 \"turns\": [{\"frames\": []}]}\n",
    "    return line_dict"
   ]
  },
  {
   "cell_type": "code",
   "execution_count": 9,
   "id": "alone-geneva",
   "metadata": {},
   "outputs": [],
   "source": [
    "def add_other_domains():\n",
    "    d_list = []\n",
    "    for domain in other_domains:\n",
    "        d = {\"actions\": [], \"service\": domain, \"slots\": [], \n",
    "            \"state\": {\"active_intent\": \"NONE\", \"requested_slots\": [], \"slot_values\": {}}}\n",
    "        d_list.append(d)\n",
    "    return d_list"
   ]
  },
  {
   "cell_type": "code",
   "execution_count": 10,
   "id": "incorporated-sydney",
   "metadata": {},
   "outputs": [],
   "source": [
    "for line in Lines:\n",
    "    if line[0:4] == \"----\":\n",
    "        line_dict = init_dict(dialog_cnt)\n",
    "        continue\n",
    "    \n",
    "    # identify the speaker using ':' as separator and taking letter up to ':'\n",
    "    ind = line.index(':')\n",
    "    speaker = line[0: ind]\n",
    "    \n",
    "    #identify if keyword exists in a line and get start and end indices\n",
    "    ind1 = line.index('[')\n",
    "    ind2 = line.index(']')\n",
    "    \n",
    "    if speaker == \"SYSTEM\":\n",
    "        if ind2 - ind1 == 1: # no keyword exists\n",
    "            frame_dict = []\n",
    "        else: # slot name, value exists\n",
    "            line_lowercase = line.lower() # get the lower case versio of the line\n",
    "            slot_name_val = line_lowercase[ind1+1: ind2] # extract slot name and value pair\n",
    "            name_list = slot_name_val.split(',')\n",
    "            slotName = name_list[0].strip()\n",
    "            slotVal = name_list[1].strip()\n",
    "            \n",
    "            start = line_lowercase.index(slotVal) # get the start index of value\n",
    "            exclusive_end = start + len(slotVal) # get the end index of value\n",
    "            frame_dict = {\"actions\": [], \"service\": service_domain,\n",
    "                          \"slots\": [{\"exclusive_end\": exclusive_end,\n",
    "                                     \"slot\": slotName,\n",
    "                                     \"start\": start,\n",
    "                                     \"value\": slotVal\n",
    "                                    }\n",
    "                                   ]\n",
    "                         }\n",
    "        line_dict[\"turns\"][0][\"frames\"].append(frame_dict)\n",
    "        \n",
    "    else: # case of speake being USER\n",
    "        line_lowercase = line.lower() # get the lower case versio of the line\n",
    "        slot_name_val = line_lowercase[ind1+1: ind2] # extract slot name and value pair\n",
    "        name_list = slot_name_val.split(',')\n",
    "        slotName = name_list[0].strip() # 1st value is slot name\n",
    "        slotVal = name_list[1].strip()  # 2nd value is the slot value\n",
    "        active_intent = name_list[2].strip() # 3rd is the active intent\n",
    "        \n",
    "        start = line_lowercase.index(slotVal) # get the start index of value\n",
    "        exclusive_end = start + len(slotVal) # get the end index of value\n",
    "        frame_dict = {\"actions\": [], \"service\": service_domain,\n",
    "                      \"slots\": [{\"exclusive_end\": exclusive_end,\n",
    "                                 \"slot\": slotName,\n",
    "                                 \"start\": start,\n",
    "                                 \"value\": slotVal\n",
    "                                }\n",
    "                               ],\n",
    "                      \"state\": {\"active_intent\": active_intent,\n",
    "                                \"requested_slots\": [],\n",
    "                                \"slot_values\": {}\n",
    "                               }\n",
    "                      \n",
    "                     }\n",
    "        line_dict[\"turns\"][0][\"frames\"].append(frame_dict)\n",
    "        other_domain_list = add_other_domains() # get values for other domains\n",
    "        for val in other_domain_list:\n",
    "            line_dict[\"turns\"][0][\"frames\"].append(val)\n",
    "        \n",
    "    utterance = line[ind2+3: -3]\n",
    "    \n",
    "    line_dict[\"turns\"][0][\"frames\"].append({\"speaker\": speaker})\n",
    "    line_dict[\"turns\"][0][\"frames\"].append({\"turn_id\": turn_id})\n",
    "    turn_id += 1\n",
    "    line_dict[\"turns\"][0][\"frames\"].append({\"utterance\": utterance})\n",
    "    json_list.append(line_dict)"
   ]
  },
  {
   "cell_type": "code",
   "execution_count": 11,
   "id": "polish-construction",
   "metadata": {},
   "outputs": [],
   "source": [
    "json_object = json.dumps(json_list, indent=2)\n",
    "outfile_cnt += 1\n",
    "json_file_name = \"dialogues_0\" + str(outfile_cnt) + \".json\"\n",
    "with open(json_file_name, \"w\") as fp:\n",
    "    fp.write(json_object)"
   ]
  },
  {
   "cell_type": "code",
   "execution_count": null,
   "id": "organizational-might",
   "metadata": {},
   "outputs": [],
   "source": []
  }
 ],
 "metadata": {
  "kernelspec": {
   "display_name": "Python 3",
   "language": "python",
   "name": "python3"
  },
  "language_info": {
   "codemirror_mode": {
    "name": "ipython",
    "version": 3
   },
   "file_extension": ".py",
   "mimetype": "text/x-python",
   "name": "python",
   "nbconvert_exporter": "python",
   "pygments_lexer": "ipython3",
   "version": "3.8.7"
  }
 },
 "nbformat": 4,
 "nbformat_minor": 5
}
