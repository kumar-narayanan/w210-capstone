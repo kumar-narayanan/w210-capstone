{
 "cells": [
  {
   "cell_type": "code",
   "execution_count": 120,
   "id": "9fb53a94",
   "metadata": {},
   "outputs": [],
   "source": [
    "import json\n",
    "file_ind = \"017\"\n",
    "target_dir = \"test/\"\n",
    "mwoz_file = \"/code/workflows/multiwoz/data/MultiWOZ_2.2/train/dialogues_\" + file_ind + \".json\"\n",
    "seq_in_file = target_dir + \"seq\" + file_ind + \".in\"\n",
    "seq_out_file = target_dir + \"seq\" + file_ind + \".out\"\n",
    "label_file = target_dir + \"label\" + file_ind\n",
    "service_domains = [\"hotel\", \"restaurant\"]\n",
    "include_line_num = False # flag to indicate if line numbers should be included"
   ]
  },
  {
   "cell_type": "code",
   "execution_count": 121,
   "id": "e7e00aac",
   "metadata": {},
   "outputs": [],
   "source": [
    "with open(mwoz_file, \"r\") as fp:\n",
    "    mwoz_dialogues_list = json.load(fp)"
   ]
  },
  {
   "cell_type": "code",
   "execution_count": 122,
   "id": "26e9ed43",
   "metadata": {},
   "outputs": [],
   "source": [
    "fp_in = open(seq_in_file, \"w\")\n",
    "fp_out = open(seq_out_file, \"w\")\n",
    "fp_label = open(label_file, \"w\")"
   ]
  },
  {
   "cell_type": "code",
   "execution_count": 123,
   "id": "8b0b4f36",
   "metadata": {},
   "outputs": [],
   "source": [
    "def domain_of_interest(services, service_domains):\n",
    "    for service_domain in service_domains:\n",
    "        if service_domain in services:\n",
    "            return 1\n",
    "    return 0"
   ]
  },
  {
   "cell_type": "code",
   "execution_count": 124,
   "id": "41663b4e",
   "metadata": {},
   "outputs": [],
   "source": [
    "line_cnt = 0\n",
    "line_num_str = \"\"\n",
    "remove_set = set(['.', ';', ',', '!', '?', '<', '>', '(', ')', '{', '}', '[', ']'])"
   ]
  },
  {
   "cell_type": "code",
   "execution_count": 125,
   "id": "efe57437",
   "metadata": {},
   "outputs": [],
   "source": [
    "for dialogue in mwoz_dialogues_list: # for each dialogue in the dialog file\n",
    "    services = dialogue[\"services\"]\n",
    "    if not domain_of_interest(set(services), service_domains): # only restaurant and hotel domains\n",
    "        continue\n",
    "    \n",
    "    for turn in dialogue[\"turns\"]:\n",
    "        if turn[\"speaker\"] == \"SYSTEM\": # skip all the system generated dialogs\n",
    "            continue\n",
    "        \n",
    "        for dom in turn[\"frames\"]: # each domain within a frame\n",
    "            if not domain_of_interest(dom[\"service\"], service_domains): # if not one of service_domain\n",
    "                continue\n",
    "            \n",
    "            active_intent = dom[\"state\"][\"active_intent\"] #extract active intent\n",
    "            slot_values = dom[\"state\"][\"slot_values\"] # extract slot value dictionary\n",
    "            \n",
    "            if active_intent == \"NONE\" and slot_values == {}: # if no active_intent, empty slot_values skip\n",
    "                continue\n",
    "            \n",
    "            keyList = []\n",
    "            valList = []\n",
    "            bio_str = \"\"\n",
    "            for key, val in slot_values.items(): # get the slot names and slot values\n",
    "                keyList.append(key.lower()) # slot names\n",
    "                valList.append(val[0].lower()) # slot values\n",
    "            \n",
    "            for word in turn[\"utterance\"].split(): # check if each word in utterance exist in slot value\n",
    "                if word[-1] in remove_set: # if the last character is a non-alphanumeric\n",
    "                        word = word[:-1]\n",
    "                try:\n",
    "                    ind = valList.index(word.lower()) # if the word is one of the slot values\n",
    "                    parts = valList[ind].split() # for slot names that have multiple words\n",
    "                    for i in range(len(parts)):\n",
    "                        if i == 0:\n",
    "                            bio_str += \"B-\" + keyList[ind] + \" \" # 1st part of slot starts with B-\n",
    "                        else:\n",
    "                            bio_str += \"I-\" + keyList[ind] + \" \" # other parts start with I-\n",
    "                    \n",
    "                except ValueError:\n",
    "                    bio_str += \"O \"        \n",
    "            \n",
    "            if include_line_num:\n",
    "                line_cnt += 1\n",
    "                line_num_str = str(line_cnt) + \" \"\n",
    "            \n",
    "            fp_in.write(line_num_str + turn[\"utterance\"] + \"\\n\")\n",
    "            fp_out.write(line_num_str + bio_str + \"\\n\")\n",
    "            fp_label.write(line_num_str + active_intent + \"\\n\")\n",
    "            "
   ]
  },
  {
   "cell_type": "code",
   "execution_count": 126,
   "id": "bd7d8fc1",
   "metadata": {},
   "outputs": [],
   "source": [
    "fp_in.close()\n",
    "fp_out.close()\n",
    "fp_label.close()"
   ]
  },
  {
   "cell_type": "code",
   "execution_count": null,
   "id": "d4d35814",
   "metadata": {},
   "outputs": [],
   "source": []
  }
 ],
 "metadata": {
  "kernelspec": {
   "display_name": "Python 3 (ipykernel)",
   "language": "python",
   "name": "python3"
  },
  "language_info": {
   "codemirror_mode": {
    "name": "ipython",
    "version": 3
   },
   "file_extension": ".py",
   "mimetype": "text/x-python",
   "name": "python",
   "nbconvert_exporter": "python",
   "pygments_lexer": "ipython3",
   "version": "3.8.13"
  }
 },
 "nbformat": 4,
 "nbformat_minor": 5
}
