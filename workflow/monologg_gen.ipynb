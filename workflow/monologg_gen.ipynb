{
 "cells": [
  {
   "cell_type": "code",
   "execution_count": 154,
   "id": "70ebb5aa",
   "metadata": {},
   "outputs": [],
   "source": [
    "import json\n",
    "file_ind = \"017\"\n",
    "target_dir = \"test_gen/\"\n",
    "#target_dir = \"\"\n",
    "mwoz_dir = \"/code/workflows/multiwoz/data/MultiWOZ_2.2/train/\"\n",
    "mwoz_file =  mwoz_dir + \"dialogues_\" + file_ind + \".json\"\n",
    "seq_in_file = target_dir + \"seq\" + file_ind + \".in\"\n",
    "seq_out_file = target_dir + \"seq\" + file_ind + \".out\"\n",
    "label_file = target_dir + \"label\" + file_ind\n",
    "service_domains = [\"hotel\", \"restaurant\"]"
   ]
  },
  {
   "cell_type": "code",
   "execution_count": 155,
   "id": "7d125ce2",
   "metadata": {},
   "outputs": [],
   "source": [
    "# build xlate table - xlate domain specific slot names and intents to generic name\n",
    "xlate_slots_intents = True\n",
    "xlate_file = \"slot_xlate.json\"\n",
    "if xlate_slots_intents:\n",
    "    xlate_dict = {}\n",
    "    with open(xlate_file, \"r\") as f_xlate:\n",
    "        xlate_list = json.load(f_xlate)\n",
    "    for entry in xlate_list:\n",
    "        for intents in entry[\"intents\"]:\n",
    "            xlate_dict[intents[\"name\"]] = intents[\"new-name\"]\n",
    "        for slot_names in entry[\"slots\"]:\n",
    "            xlate_dict[slot_names[\"name\"]] = slot_names[\"new-name\"]"
   ]
  },
  {
   "cell_type": "code",
   "execution_count": 156,
   "id": "2190bf80",
   "metadata": {},
   "outputs": [],
   "source": [
    "with open(mwoz_file, \"r\") as fp:\n",
    "    mwoz_dialogues_list = json.load(fp)"
   ]
  },
  {
   "cell_type": "code",
   "execution_count": 157,
   "id": "8689a7d3",
   "metadata": {},
   "outputs": [],
   "source": [
    "fp_in = open(seq_in_file, \"w\")\n",
    "fp_out = open(seq_out_file, \"w\")\n",
    "fp_label = open(label_file, \"w\")"
   ]
  },
  {
   "cell_type": "code",
   "execution_count": 158,
   "id": "c84ad54b",
   "metadata": {},
   "outputs": [],
   "source": [
    "def domain_of_interest(services, service_domains):\n",
    "    \n",
    "    for service_domain in service_domains:\n",
    "        if service_domain in services:\n",
    "            return 1\n",
    "    return 0"
   ]
  },
  {
   "cell_type": "code",
   "execution_count": 159,
   "id": "f0e8dbfe",
   "metadata": {},
   "outputs": [],
   "source": [
    "def get_bio_string(utterance, slotValList, slotNameList):\n",
    "    \n",
    "    utterance = utterance.lower()\n",
    "    bio_str = \"\"\n",
    "    for i in range(len(slotValList)): # for each slot value in the slotValList\n",
    "        try: # check if the slot value occurs in the utterance\n",
    "            ind = utterance.index(slotValList[i]) # get the index of the slot value\n",
    "            parts = slotValList[i].split() # handle blank inside slot value\n",
    "            BI_slotName = \"\"\n",
    "            for j in range(len(parts)):\n",
    "                if j == 0:\n",
    "                    BI_slotName += \"B-\" + slotNameList[i] + \" \" # 1st part is B-slotname\n",
    "                else:\n",
    "                    BI_slotName += \"I-\" + slotNameList[i] + \" \" # subsequent parts are I-slotname\n",
    "            utterance = utterance[: ind] + BI_slotName + utterance[ind+len(slotValList[i]) :]\n",
    "        except ValueError:\n",
    "            pass\n",
    "            \n",
    "    for word in utterance.split(): # check if each word in utterance exist in slot value\n",
    "        if \"B-\" in word[0:2] or \"I-\" in word[0:2]:\n",
    "            bio_str += word + \" \"\n",
    "        else:\n",
    "            bio_str += \"O \"    \n",
    "    \n",
    "    return bio_str"
   ]
  },
  {
   "cell_type": "code",
   "execution_count": 160,
   "id": "d6fd65ec",
   "metadata": {},
   "outputs": [],
   "source": [
    "def get_label(intent):\n",
    "    \n",
    "    key = list(intent.keys())\n",
    "    if len(key) == 1:\n",
    "        return intent[key[0]]\n",
    "    else:\n",
    "        if intent[key[0]] == \"NONE\" and intent[key[1]] == \"NONE\":\n",
    "            return \"NONE\"\n",
    "        elif intent[key[0]] == \"NONE\":\n",
    "            return intent[key[1]]\n",
    "        else:\n",
    "            return intent[key[0]]"
   ]
  },
  {
   "cell_type": "code",
   "execution_count": 161,
   "id": "0d33e1ea",
   "metadata": {},
   "outputs": [],
   "source": [
    "for dialogue in mwoz_dialogues_list: # for each dialogue in the dialog file\n",
    "    services = dialogue[\"services\"]\n",
    "    if not domain_of_interest(set(services), service_domains): # only restaurant and hotel domains\n",
    "        continue\n",
    "    \n",
    "    for turn in dialogue[\"turns\"]:\n",
    "        if turn[\"speaker\"] == \"SYSTEM\": # skip all the system generated dialogs\n",
    "            continue\n",
    "            \n",
    "        slotNameList = []\n",
    "        slotValList = []\n",
    "        intent = {}\n",
    "        hotel_restaurant = False # flag to indicate if the utterance is relevant to hotel and/or restaurant\n",
    "        for dom in turn[\"frames\"]: # each domain within a frame\n",
    "            if not domain_of_interest(dom[\"service\"], service_domains): # if not one of service_domain\n",
    "                continue\n",
    "            \n",
    "            active_intent = dom[\"state\"][\"active_intent\"] #extract active intent\n",
    "            slot_values = dom[\"state\"][\"slot_values\"] # extract slot value dictionary\n",
    "            \n",
    "            if active_intent == \"NONE\" and slot_values == {}: # if no active_intent, empty slot_values skip\n",
    "                continue\n",
    "            \n",
    "            hotel_restaurant = True #set the flag true; at least one of hotel or restaurant active domain\n",
    "            \n",
    "            if xlate_slots_intents: # if need to translate\n",
    "                try: # check if xlate_dict has this intent\n",
    "                    intent[dom[\"service\"]] = xlate_dict[active_intent]\n",
    "                except KeyError: # if not, leave it at active_intent\n",
    "                    intent[dom[\"service\"]] = active_intent\n",
    "                \n",
    "            for slotName, slotVal in slot_values.items(): # get the slot names and slot values\n",
    "                if xlate_slots_intents: # if we want generic slot names\n",
    "                    try: # check xlate_dict has the key, in which case use the value from xlate_dict\n",
    "                        newSlotName = xlate_dict[slotName.lower()]\n",
    "                    except KeyError: # if the key doesn't exist then don't translate\n",
    "                        newSlotName = slotName.lower()\n",
    "                else:\n",
    "                    newSlotName = slotName.lower()\n",
    "                slotNameList.append(newSlotName) # slot names\n",
    "                slotValList.append(slotVal[0].lower()) # slot values\n",
    "        \n",
    "        if hotel_restaurant: \n",
    "            bio_str = get_bio_string(turn[\"utterance\"], slotValList, slotNameList)        \n",
    "            label = get_label(intent)\n",
    "            \n",
    "            fp_in.write(turn[\"utterance\"] + \"\\n\")\n",
    "            fp_out.write(bio_str + \"\\n\")\n",
    "            fp_label.write(label + \"\\n\")\n",
    "            "
   ]
  },
  {
   "cell_type": "code",
   "execution_count": 162,
   "id": "fe7088df",
   "metadata": {},
   "outputs": [],
   "source": [
    "fp_in.close()\n",
    "fp_out.close()\n",
    "fp_label.close()"
   ]
  },
  {
   "cell_type": "code",
   "execution_count": null,
   "id": "d51f7564",
   "metadata": {},
   "outputs": [],
   "source": []
  }
 ],
 "metadata": {
  "kernelspec": {
   "display_name": "Python 3 (ipykernel)",
   "language": "python",
   "name": "python3"
  },
  "language_info": {
   "codemirror_mode": {
    "name": "ipython",
    "version": 3
   },
   "file_extension": ".py",
   "mimetype": "text/x-python",
   "name": "python",
   "nbconvert_exporter": "python",
   "pygments_lexer": "ipython3",
   "version": "3.8.13"
  }
 },
 "nbformat": 4,
 "nbformat_minor": 5
}
