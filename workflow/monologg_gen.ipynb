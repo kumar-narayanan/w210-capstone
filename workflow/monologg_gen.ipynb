{
 "cells": [
  {
   "cell_type": "code",
   "execution_count": 129,
   "id": "5f70143b",
   "metadata": {},
   "outputs": [],
   "source": [
    "import json\n",
    "file_ind = \"017\"\n",
    "target_dir = \"test_gen/\"\n",
    "#target_dir = \"\"\n",
    "mwoz_dir = \"/code/workflows/multiwoz/data/MultiWOZ_2.2/train/\"\n",
    "mwoz_file =  mwoz_dir + \"dialogues_\" + file_ind + \".json\"\n",
    "seq_in_file = target_dir + \"seq\" + file_ind + \".in\"\n",
    "seq_out_file = target_dir + \"seq\" + file_ind + \".out\"\n",
    "label_file = target_dir + \"label\" + file_ind\n",
    "service_domains = [\"hotel\", \"restaurant\"]\n",
    "include_line_num = False # flag to indicate if line numbers should be included"
   ]
  },
  {
   "cell_type": "code",
   "execution_count": 130,
   "id": "75ff5832",
   "metadata": {},
   "outputs": [],
   "source": [
    "# build xlate table - xlate domain specific slot names and intents to generic name\n",
    "xlate_slots_intents = True\n",
    "xlate_file = \"slot_xlate.json\"\n",
    "if xlate_slots_intents:\n",
    "    xlate_dict = {}\n",
    "    with open(xlate_file, \"r\") as f_xlate:\n",
    "        xlate_list = json.load(f_xlate)\n",
    "    for entry in xlate_list:\n",
    "        for intents in entry[\"intents\"]:\n",
    "            xlate_dict[intents[\"name\"]] = intents[\"new-name\"]\n",
    "        for slot_names in entry[\"slots\"]:\n",
    "            xlate_dict[slot_names[\"name\"]] = slot_names[\"new-name\"]"
   ]
  },
  {
   "cell_type": "code",
   "execution_count": 131,
   "id": "376b3326",
   "metadata": {},
   "outputs": [],
   "source": [
    "with open(mwoz_file, \"r\") as fp:\n",
    "    mwoz_dialogues_list = json.load(fp)"
   ]
  },
  {
   "cell_type": "code",
   "execution_count": 132,
   "id": "c99cf541",
   "metadata": {},
   "outputs": [],
   "source": [
    "fp_in = open(seq_in_file, \"w\")\n",
    "fp_out = open(seq_out_file, \"w\")\n",
    "fp_label = open(label_file, \"w\")"
   ]
  },
  {
   "cell_type": "code",
   "execution_count": 133,
   "id": "c709004a",
   "metadata": {},
   "outputs": [],
   "source": [
    "def domain_of_interest(services, service_domains):\n",
    "    for service_domain in service_domains:\n",
    "        if service_domain in services:\n",
    "            return 1\n",
    "    return 0"
   ]
  },
  {
   "cell_type": "code",
   "execution_count": 134,
   "id": "3153ff22",
   "metadata": {},
   "outputs": [],
   "source": [
    "line_cnt = 0\n",
    "line_num_str = \"\"\n",
    "remove_set = set(['.', ';', ',', '!', '?', '<', '>', '(', ')', '{', '}', '[', ']'])"
   ]
  },
  {
   "cell_type": "code",
   "execution_count": 135,
   "id": "9bdf7796",
   "metadata": {},
   "outputs": [],
   "source": [
    "for dialogue in mwoz_dialogues_list: # for each dialogue in the dialog file\n",
    "    services = dialogue[\"services\"]\n",
    "    if not domain_of_interest(set(services), service_domains): # only restaurant and hotel domains\n",
    "        continue\n",
    "    \n",
    "    for turn in dialogue[\"turns\"]:\n",
    "        if turn[\"speaker\"] == \"SYSTEM\": # skip all the system generated dialogs\n",
    "            continue\n",
    "        \n",
    "        for dom in turn[\"frames\"]: # each domain within a frame\n",
    "            if not domain_of_interest(dom[\"service\"], service_domains): # if not one of service_domain\n",
    "                continue\n",
    "            \n",
    "            active_intent = dom[\"state\"][\"active_intent\"] #extract active intent\n",
    "            slot_values = dom[\"state\"][\"slot_values\"] # extract slot value dictionary\n",
    "            \n",
    "            if active_intent == \"NONE\" and slot_values == {}: # if no active_intent, empty slot_values skip\n",
    "                continue\n",
    "            \n",
    "            if xlate_slots_intents: # if need to translate\n",
    "                try: # check if xlate_dict has this intent\n",
    "                    active_intent = xlate_dict[active_intent]\n",
    "                except KeyError: # if not, leave it at active_intent\n",
    "                    pass\n",
    "            \n",
    "            slotNameList = []\n",
    "            slotValList = []\n",
    "            bio_str = \"\"\n",
    "            for slotName, slotVal in slot_values.items(): # get the slot names and slot values\n",
    "                if xlate_slots_intents: # if we want generic slot names\n",
    "                    try: # check xlate_dict has the key, in which case use the value from xlate_dict\n",
    "                        newSlotName = xlate_dict[slotName.lower()]\n",
    "                    except KeyError: # if the key doesn't exist then don't translate\n",
    "                        newSlotName = slotName.lower()\n",
    "                else:\n",
    "                    newSlotName = slotName.lower()\n",
    "                slotNameList.append(newSlotName) # slot names\n",
    "                slotValList.append(slotVal[0].lower()) # slot values\n",
    "            \n",
    "            for word in turn[\"utterance\"].split(): # check if each word in utterance exist in slot value\n",
    "                if word[-1] in remove_set: # if the last character is a non-alphanumeric\n",
    "                    word = word[:-1]\n",
    "                try:\n",
    "                    ind = slotValList.index(word.lower()) # if the word is one of the slot values\n",
    "                    parts = slotValList[ind].split() # for slot names that have multiple words\n",
    "                    for i in range(len(parts)):\n",
    "                        if i == 0:\n",
    "                            bio_str += \"B-\" + slotNameList[ind] + \" \" # 1st part of slot starts with B-\n",
    "                        else:\n",
    "                            bio_str += \"I-\" + slotNameList[ind] + \" \" # other parts start with I-\n",
    "                    \n",
    "                except ValueError:\n",
    "                    bio_str += \"O \"        \n",
    "            \n",
    "            if include_line_num:\n",
    "                line_cnt += 1\n",
    "                line_num_str = str(line_cnt) + \" \"\n",
    "            \n",
    "            fp_in.write(line_num_str + turn[\"utterance\"] + \"\\n\")\n",
    "            fp_out.write(line_num_str + bio_str + \"\\n\")\n",
    "            fp_label.write(line_num_str + active_intent + \"\\n\")\n",
    "            "
   ]
  },
  {
   "cell_type": "code",
   "execution_count": 136,
   "id": "3e1e48cd",
   "metadata": {},
   "outputs": [],
   "source": [
    "fp_in.close()\n",
    "fp_out.close()\n",
    "fp_label.close()"
   ]
  },
  {
   "cell_type": "code",
   "execution_count": null,
   "id": "b53e0f04",
   "metadata": {},
   "outputs": [],
   "source": []
  }
 ],
 "metadata": {
  "kernelspec": {
   "display_name": "Python 3 (ipykernel)",
   "language": "python",
   "name": "python3"
  },
  "language_info": {
   "codemirror_mode": {
    "name": "ipython",
    "version": 3
   },
   "file_extension": ".py",
   "mimetype": "text/x-python",
   "name": "python",
   "nbconvert_exporter": "python",
   "pygments_lexer": "ipython3",
   "version": "3.8.13"
  }
 },
 "nbformat": 4,
 "nbformat_minor": 5
}
