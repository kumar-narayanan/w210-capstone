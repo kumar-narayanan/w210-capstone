{
 "cells": [
  {
   "cell_type": "code",
   "execution_count": 1,
   "id": "lucky-adventure",
   "metadata": {},
   "outputs": [],
   "source": [
    "import json\n",
    "mwoz_file = \"dialogues_016.json\"\n",
    "outfile = \"bert_dialogue_016.json\"\n",
    "service_domain = \"restaurant\""
   ]
  },
  {
   "cell_type": "code",
   "execution_count": 2,
   "id": "underlying-grill",
   "metadata": {},
   "outputs": [],
   "source": [
    "with open(mwoz_file) as fp:\n",
    "    mwoz_dialogues_list = json.load(fp)"
   ]
  },
  {
   "cell_type": "code",
   "execution_count": 3,
   "id": "facial-strategy",
   "metadata": {},
   "outputs": [
    {
     "name": "stdout",
     "output_type": "stream",
     "text": [
      "512\n",
      "MUL1966.json\n",
      "16\n",
      "4\n",
      "Hi, I'm looking for places to visit. Mainly in the western part.\n"
     ]
    }
   ],
   "source": [
    "for mwoz_dialogue in mwoz_dialogues_list:\n",
    "    print(len(mwoz_dialogues_list))\n",
    "    print(mwoz_dialogue[\"dialogue_id\"])\n",
    "    print(len(mwoz_dialogue[\"turns\"]))\n",
    "    print(len(mwoz_dialogue[\"turns\"][0]))\n",
    "    print(mwoz_dialogue[\"turns\"][0][\"utterance\"])\n",
    "    break"
   ]
  },
  {
   "cell_type": "code",
   "execution_count": 4,
   "id": "toxic-rough",
   "metadata": {},
   "outputs": [
    {
     "name": "stdout",
     "output_type": "stream",
     "text": [
      "Total dialogs: 512 Restaurant dialogs: 234\n"
     ]
    }
   ],
   "source": [
    "total_dialogs = 0\n",
    "restaurant_dialogs = 0\n",
    "json_list = []\n",
    "for mwoz_dialogue in mwoz_dialogues_list:\n",
    "    total_dialogs += 1\n",
    "    if not service_domain in mwoz_dialogue[\"services\"]:\n",
    "        continue\n",
    "    \n",
    "    restaurant_dialogs += 1\n",
    "    bert_dict = {}\n",
    "    bert_dict[\"dialogue_idx\"] = mwoz_dialogue[\"dialogue_id\"]\n",
    "    #bert_dict[\"domains\"] = mwoz_dialogue[\"services\"]\n",
    "    bert_dict[\"domains\"] = [service_domain]\n",
    "    bert_dict[\"dialogue\"] = []\n",
    "    \n",
    "    # special handling for the 0th element, always being USER\n",
    "    system_transcript = \"\"\n",
    "    turn_idx = 0\n",
    "    \n",
    "    belief_state_list = []\n",
    "    turn_label_list = []\n",
    "    for dom in mwoz_dialogue[\"turns\"][0][\"frames\"]:\n",
    "        act = dom[\"state\"][\"active_intent\"]\n",
    "        service = dom[\"service\"]\n",
    "        # consider only service = \"restaurant\" (i.e service_domain) and \n",
    "        # active_intent not being NONE\n",
    "        if (not act == \"NONE\") and (service == service_domain):\n",
    "            req_slot = dom[\"state\"][\"requested_slots\"]\n",
    "            slot_val_mwoz = dom[\"state\"][\"slot_values\"]\n",
    "            for key, val in slot_val_mwoz.items():\n",
    "                belief_state_list.append({\"slots\": [[key, val[0]]], \"act\": act})\n",
    "                turn_label_list.append([key, val[0]])\n",
    "            \n",
    "    transcript = mwoz_dialogue[\"turns\"][0][\"utterance\"]\n",
    "    system_acts = req_slot\n",
    "    domain = service_domain\n",
    "    \n",
    "    bert_dialog_dict = {\"system_transcript\": system_transcript, \"turn_idx\": turn_idx,\n",
    "                        \"belief_state\": belief_state_list, \"turn_label\": turn_label_list, \n",
    "                        \"transcript\": transcript, \"system_acts\": system_acts, \"domain\": domain\n",
    "                       }\n",
    "    bert_dict[\"dialogue\"].append(bert_dialog_dict)\n",
    "    \n",
    "    # for entries in \"turn\" from 1 to n-1, where n is the final utterance\n",
    "    # consider index 1 (\"SYSTEM\"), 2 (\"USER\") paired; take slots and value\n",
    "    # from utterance 2 (USER).\n",
    "    i = 1\n",
    "    turn_len = len(mwoz_dialogue[\"turns\"])\n",
    "    while i <= turn_len - 2:\n",
    "        utter_sys = mwoz_dialogue[\"turns\"][i] # represents SYSTEM\n",
    "        utter_user = mwoz_dialogue[\"turns\"][i+1] # represents USER\n",
    "        \n",
    "        system_transcript = utter_sys[\"utterance\"] # system utterance\n",
    "        turn_idx += 1\n",
    "        \n",
    "        belief_state_list = []\n",
    "        turn_label_list = []\n",
    "        for dom in utter_user[\"frames\"]:\n",
    "            act = dom[\"state\"][\"active_intent\"]\n",
    "            service = dom[\"service\"]\n",
    "            # consider only service = \"restaurant\" (i.e service_domain) and \n",
    "            # active_intent not being NONE\n",
    "            if (not act == \"NONE\") and (service == service_domain):\n",
    "                slot_val_mwoz = dom[\"state\"][\"slot_values\"]\n",
    "                req_slot = dom[\"state\"][\"requested_slots\"]\n",
    "                for key, val in slot_val_mwoz.items():\n",
    "                    belief_state_list.append({\"slots\": [[key, val[0]]], \"act\": act})\n",
    "                    turn_label_list.append([key, val[0]])\n",
    "        \n",
    "        transcript = utter_user[\"utterance\"] \n",
    "        system_acts = req_slot\n",
    "        domain = service_domain\n",
    "        \n",
    "        bert_dialog_dict = {\"system_transcript\": system_transcript, \"turn_idx\": turn_idx,\n",
    "                            \"belief_state\": belief_state_list, \"turn_label\": turn_label_list, \n",
    "                            \"transcript\": transcript, \"system_acts\": system_acts, \"domain\": domain\n",
    "                           }\n",
    "        \n",
    "        bert_dict[\"dialogue\"].append(bert_dialog_dict)\n",
    "        \n",
    "        i += 2\n",
    "        \n",
    "    # handle the case of the last system utterance\n",
    "    utter_sys = mwoz_dialogue[\"turns\"][i]\n",
    "    system_transcript = utter_sys[\"utterance\"] # system utterance\n",
    "    turn_idx += 1\n",
    "        \n",
    "    belief_state_list = []\n",
    "    turn_label_list = []\n",
    "        \n",
    "    transcript = \"\"\n",
    "    system_acts = []\n",
    "    domain = service_domain\n",
    "        \n",
    "    bert_dialog_dict = {\"system_transcript\": system_transcript, \"turn_idx\": turn_idx,\n",
    "                        \"belief_state\": belief_state_list, \"turn_label\": turn_label_list, \n",
    "                        \"transcript\": transcript, \"system_acts\": system_acts, \"domain\": domain\n",
    "                       }\n",
    "    bert_dict[\"dialogue\"].append(bert_dialog_dict)\n",
    "        \n",
    "    json_list.append(bert_dict)\n",
    "\n",
    "print(\"Total dialogs:\", total_dialogs, \"Restaurant dialogs:\", restaurant_dialogs)"
   ]
  },
  {
   "cell_type": "code",
   "execution_count": 5,
   "id": "powerful-logan",
   "metadata": {},
   "outputs": [],
   "source": [
    "json_object = json.dumps(json_list, indent=2)\n",
    "\n",
    "with open(outfile, \"w\") as fp:\n",
    "    fp.write(json_object)"
   ]
  },
  {
   "cell_type": "code",
   "execution_count": null,
   "id": "convinced-moderator",
   "metadata": {},
   "outputs": [],
   "source": []
  }
 ],
 "metadata": {
  "kernelspec": {
   "display_name": "Python 3",
   "language": "python",
   "name": "python3"
  },
  "language_info": {
   "codemirror_mode": {
    "name": "ipython",
    "version": 3
   },
   "file_extension": ".py",
   "mimetype": "text/x-python",
   "name": "python",
   "nbconvert_exporter": "python",
   "pygments_lexer": "ipython3",
   "version": "3.8.7"
  }
 },
 "nbformat": 4,
 "nbformat_minor": 5
}
